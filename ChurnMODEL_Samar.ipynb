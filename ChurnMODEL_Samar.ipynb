{
 "cells": [
  {
   "cell_type": "code",
   "execution_count": 1,
   "id": "a8154d24",
   "metadata": {},
   "outputs": [],
   "source": [
    "import pyspark"
   ]
  },
  {
   "cell_type": "code",
   "execution_count": 2,
   "id": "45f19d75",
   "metadata": {},
   "outputs": [],
   "source": [
    "from pyspark.sql import SparkSession"
   ]
  },
  {
   "cell_type": "code",
   "execution_count": 3,
   "id": "c9c7904a",
   "metadata": {},
   "outputs": [],
   "source": [
    "# create spark sessiom\n",
    "spark=SparkSession.builder.getOrCreate()"
   ]
  },
  {
   "cell_type": "code",
   "execution_count": 6,
   "id": "c3bc49ff",
   "metadata": {},
   "outputs": [],
   "source": [
    "sdf=spark.read.csv('Bank Churn Modelling.csv',header=True,inferSchema=True)"
   ]
  },
  {
   "cell_type": "code",
   "execution_count": 7,
   "id": "47b23d9b",
   "metadata": {},
   "outputs": [
    {
     "name": "stdout",
     "output_type": "stream",
     "text": [
      "+----------+---------+-----------+---------+------+---+------+---------+---------------+---------------+----------------+----------------+-----+\n",
      "|CustomerId|  Surname|CreditScore|Geography|Gender|Age|Tenure|  Balance|Num Of Products|Has Credit Card|Is Active Member|Estimated Salary|Churn|\n",
      "+----------+---------+-----------+---------+------+---+------+---------+---------------+---------------+----------------+----------------+-----+\n",
      "|  15634602| Hargrave|        619|   France|Female| 42|     2|      0.0|              1|              1|               1|       101348.88|    1|\n",
      "|  15647311|     Hill|        608|    Spain|Female| 41|     1| 83807.86|              1|              0|               1|       112542.58|    0|\n",
      "|  15619304|     Onio|        502|   France|Female| 42|     8| 159660.8|              3|              1|               0|       113931.57|    1|\n",
      "|  15701354|     Boni|        699|   France|Female| 39|     1|      0.0|              2|              0|               0|        93826.63|    0|\n",
      "|  15737888| Mitchell|        850|    Spain|Female| 43|     2|125510.82|              1|              1|               1|         79084.1|    0|\n",
      "|  15574012|      Chu|        645|    Spain|  Male| 44|     8|113755.78|              2|              1|               0|       149756.71|    1|\n",
      "|  15592531| Bartlett|        822|   France|  Male| 50|     7|      0.0|              2|              1|               1|         10062.8|    0|\n",
      "|  15656148|   Obinna|        376|  Germany|Female| 29|     4|115046.74|              4|              1|               0|       119346.88|    1|\n",
      "|  15792365|       He|        501|   France|  Male| 44|     4|142051.07|              2|              0|               1|         74940.5|    0|\n",
      "|  15592389|       H?|        684|   France|  Male| 27|     2|134603.88|              1|              1|               1|        71725.73|    0|\n",
      "|  15767821|   Bearce|        528|   France|  Male| 31|     6|102016.72|              2|              0|               0|        80181.12|    0|\n",
      "|  15737173|  Andrews|        497|    Spain|  Male| 24|     3|      0.0|              2|              1|               0|        76390.01|    0|\n",
      "|  15632264|      Kay|        476|   France|Female| 34|    10|      0.0|              2|              1|               0|        26260.98|    0|\n",
      "|  15691483|     Chin|        549|   France|Female| 25|     5|      0.0|              2|              0|               0|       190857.79|    0|\n",
      "|  15600882|    Scott|        635|    Spain|Female| 35|     7|      0.0|              2|              1|               1|        65951.65|    0|\n",
      "|  15643966|  Goforth|        616|  Germany|  Male| 45|     3|143129.41|              2|              0|               1|        64327.26|    0|\n",
      "|  15737452|    Romeo|        653|  Germany|  Male| 58|     1|132602.88|              1|              1|               0|         5097.67|    1|\n",
      "|  15788218|Henderson|        549|    Spain|Female| 24|     9|      0.0|              2|              1|               1|        14406.41|    0|\n",
      "|  15661507|  Muldrow|        587|    Spain|  Male| 45|     6|      0.0|              1|              0|               0|       158684.81|    0|\n",
      "|  15568982|      Hao|        726|   France|Female| 24|     6|      0.0|              2|              1|               1|        54724.03|    0|\n",
      "+----------+---------+-----------+---------+------+---+------+---------+---------------+---------------+----------------+----------------+-----+\n",
      "only showing top 20 rows\n",
      "\n"
     ]
    }
   ],
   "source": [
    "sdf.show()"
   ]
  },
  {
   "cell_type": "code",
   "execution_count": 8,
   "id": "77ee58f8",
   "metadata": {},
   "outputs": [
    {
     "data": {
      "text/plain": [
       "['CustomerId',\n",
       " 'Surname',\n",
       " 'CreditScore',\n",
       " 'Geography',\n",
       " 'Gender',\n",
       " 'Age',\n",
       " 'Tenure',\n",
       " 'Balance',\n",
       " 'Num Of Products',\n",
       " 'Has Credit Card',\n",
       " 'Is Active Member',\n",
       " 'Estimated Salary',\n",
       " 'Churn']"
      ]
     },
     "execution_count": 8,
     "metadata": {},
     "output_type": "execute_result"
    }
   ],
   "source": [
    "sdf.columns"
   ]
  },
  {
   "cell_type": "code",
   "execution_count": 9,
   "id": "63939608",
   "metadata": {},
   "outputs": [],
   "source": [
    "sdf=sdf.dropna()"
   ]
  },
  {
   "cell_type": "code",
   "execution_count": 10,
   "id": "9ba8fa56",
   "metadata": {},
   "outputs": [
    {
     "data": {
      "text/plain": [
       "<bound method DataFrame.printSchema of DataFrame[CustomerId: int, Surname: string, CreditScore: int, Geography: string, Gender: string, Age: int, Tenure: int, Balance: double, Num Of Products: int, Has Credit Card: int, Is Active Member: int, Estimated Salary: double, Churn: int]>"
      ]
     },
     "execution_count": 10,
     "metadata": {},
     "output_type": "execute_result"
    }
   ],
   "source": [
    "sdf.printSchema"
   ]
  },
  {
   "cell_type": "code",
   "execution_count": 11,
   "id": "68ee6a1d",
   "metadata": {},
   "outputs": [
    {
     "name": "stdout",
     "output_type": "stream",
     "text": [
      "+----------+---------+-----------+---------+------+---+------+---------+---------------+---------------+----------------+----------------+-----+\n",
      "|CustomerId|  Surname|CreditScore|Geography|Gender|Age|Tenure|  Balance|Num Of Products|Has Credit Card|Is Active Member|Estimated Salary|Churn|\n",
      "+----------+---------+-----------+---------+------+---+------+---------+---------------+---------------+----------------+----------------+-----+\n",
      "|  15634602| Hargrave|        619|   France|Female| 42|     2|      0.0|              1|              1|               1|       101348.88|    1|\n",
      "|  15647311|     Hill|        608|    Spain|Female| 41|     1| 83807.86|              1|              0|               1|       112542.58|    0|\n",
      "|  15619304|     Onio|        502|   France|Female| 42|     8| 159660.8|              3|              1|               0|       113931.57|    1|\n",
      "|  15701354|     Boni|        699|   France|Female| 39|     1|      0.0|              2|              0|               0|        93826.63|    0|\n",
      "|  15737888| Mitchell|        850|    Spain|Female| 43|     2|125510.82|              1|              1|               1|         79084.1|    0|\n",
      "|  15574012|      Chu|        645|    Spain|  Male| 44|     8|113755.78|              2|              1|               0|       149756.71|    1|\n",
      "|  15592531| Bartlett|        822|   France|  Male| 50|     7|      0.0|              2|              1|               1|         10062.8|    0|\n",
      "|  15656148|   Obinna|        376|  Germany|Female| 29|     4|115046.74|              4|              1|               0|       119346.88|    1|\n",
      "|  15792365|       He|        501|   France|  Male| 44|     4|142051.07|              2|              0|               1|         74940.5|    0|\n",
      "|  15592389|       H?|        684|   France|  Male| 27|     2|134603.88|              1|              1|               1|        71725.73|    0|\n",
      "|  15767821|   Bearce|        528|   France|  Male| 31|     6|102016.72|              2|              0|               0|        80181.12|    0|\n",
      "|  15737173|  Andrews|        497|    Spain|  Male| 24|     3|      0.0|              2|              1|               0|        76390.01|    0|\n",
      "|  15632264|      Kay|        476|   France|Female| 34|    10|      0.0|              2|              1|               0|        26260.98|    0|\n",
      "|  15691483|     Chin|        549|   France|Female| 25|     5|      0.0|              2|              0|               0|       190857.79|    0|\n",
      "|  15600882|    Scott|        635|    Spain|Female| 35|     7|      0.0|              2|              1|               1|        65951.65|    0|\n",
      "|  15643966|  Goforth|        616|  Germany|  Male| 45|     3|143129.41|              2|              0|               1|        64327.26|    0|\n",
      "|  15737452|    Romeo|        653|  Germany|  Male| 58|     1|132602.88|              1|              1|               0|         5097.67|    1|\n",
      "|  15788218|Henderson|        549|    Spain|Female| 24|     9|      0.0|              2|              1|               1|        14406.41|    0|\n",
      "|  15661507|  Muldrow|        587|    Spain|  Male| 45|     6|      0.0|              1|              0|               0|       158684.81|    0|\n",
      "|  15568982|      Hao|        726|   France|Female| 24|     6|      0.0|              2|              1|               1|        54724.03|    0|\n",
      "+----------+---------+-----------+---------+------+---+------+---------+---------------+---------------+----------------+----------------+-----+\n",
      "only showing top 20 rows\n",
      "\n"
     ]
    }
   ],
   "source": [
    "sdf.show()"
   ]
  },
  {
   "cell_type": "code",
   "execution_count": 12,
   "id": "35095054",
   "metadata": {},
   "outputs": [
    {
     "data": {
      "text/plain": [
       "[('CustomerId', 'int'),\n",
       " ('Surname', 'string'),\n",
       " ('CreditScore', 'int'),\n",
       " ('Geography', 'string'),\n",
       " ('Gender', 'string'),\n",
       " ('Age', 'int'),\n",
       " ('Tenure', 'int'),\n",
       " ('Balance', 'double'),\n",
       " ('Num Of Products', 'int'),\n",
       " ('Has Credit Card', 'int'),\n",
       " ('Is Active Member', 'int'),\n",
       " ('Estimated Salary', 'double'),\n",
       " ('Churn', 'int')]"
      ]
     },
     "execution_count": 12,
     "metadata": {},
     "output_type": "execute_result"
    }
   ],
   "source": [
    "sdf.dtypes"
   ]
  },
  {
   "cell_type": "code",
   "execution_count": 13,
   "id": "40bc327b",
   "metadata": {},
   "outputs": [
    {
     "data": {
      "text/plain": [
       "['CustomerId',\n",
       " 'Surname',\n",
       " 'CreditScore',\n",
       " 'Geography',\n",
       " 'Gender',\n",
       " 'Age',\n",
       " 'Tenure',\n",
       " 'Balance',\n",
       " 'Num Of Products',\n",
       " 'Has Credit Card',\n",
       " 'Is Active Member',\n",
       " 'Estimated Salary',\n",
       " 'Churn']"
      ]
     },
     "execution_count": 13,
     "metadata": {},
     "output_type": "execute_result"
    }
   ],
   "source": [
    "sdf.columns"
   ]
  },
  {
   "cell_type": "code",
   "execution_count": 14,
   "id": "8f30f44b",
   "metadata": {},
   "outputs": [],
   "source": [
    "from pyspark.ml.feature import StringIndexer"
   ]
  },
  {
   "cell_type": "code",
   "execution_count": 15,
   "id": "cfd62cfb",
   "metadata": {},
   "outputs": [],
   "source": [
    "si=StringIndexer(inputCols=['Geography','Gender'],outputCols=['iGeography','iGender'])"
   ]
  },
  {
   "cell_type": "code",
   "execution_count": 16,
   "id": "fec5d128",
   "metadata": {},
   "outputs": [],
   "source": [
    "sdf=si.fit(sdf).transform(sdf)"
   ]
  },
  {
   "cell_type": "code",
   "execution_count": 17,
   "id": "5a7b1c52",
   "metadata": {},
   "outputs": [
    {
     "data": {
      "text/plain": [
       "['CustomerId',\n",
       " 'Surname',\n",
       " 'CreditScore',\n",
       " 'Geography',\n",
       " 'Gender',\n",
       " 'Age',\n",
       " 'Tenure',\n",
       " 'Balance',\n",
       " 'Num Of Products',\n",
       " 'Has Credit Card',\n",
       " 'Is Active Member',\n",
       " 'Estimated Salary',\n",
       " 'Churn',\n",
       " 'iGeography',\n",
       " 'iGender']"
      ]
     },
     "execution_count": 17,
     "metadata": {},
     "output_type": "execute_result"
    }
   ],
   "source": [
    "sdf.columns"
   ]
  },
  {
   "cell_type": "code",
   "execution_count": 18,
   "id": "c5d0bdfb",
   "metadata": {},
   "outputs": [],
   "source": [
    "from pyspark.ml.feature import VectorAssembler"
   ]
  },
  {
   "cell_type": "code",
   "execution_count": 19,
   "id": "0d3b0f71",
   "metadata": {},
   "outputs": [],
   "source": [
    "va=VectorAssembler(inputCols=['CreditScore',\n",
    "'Tenure',\n",
    " 'Balance',\n",
    " 'Num Of Products',\n",
    " 'Has Credit Card',\n",
    " 'Is Active Member',\n",
    " 'Estimated Salary',\n",
    " 'iGeography',\n",
    " 'iGender'],outputCol='X')"
   ]
  },
  {
   "cell_type": "code",
   "execution_count": 20,
   "id": "91003795",
   "metadata": {},
   "outputs": [],
   "source": [
    "sdf=va.transform(sdf)"
   ]
  },
  {
   "cell_type": "code",
   "execution_count": 21,
   "id": "e05c7a5a",
   "metadata": {},
   "outputs": [
    {
     "name": "stdout",
     "output_type": "stream",
     "text": [
      "+----------+---------+-----------+---------+------+---+------+---------+---------------+---------------+----------------+----------------+-----+----------+-------+--------------------+\n",
      "|CustomerId|  Surname|CreditScore|Geography|Gender|Age|Tenure|  Balance|Num Of Products|Has Credit Card|Is Active Member|Estimated Salary|Churn|iGeography|iGender|                   X|\n",
      "+----------+---------+-----------+---------+------+---+------+---------+---------------+---------------+----------------+----------------+-----+----------+-------+--------------------+\n",
      "|  15634602| Hargrave|        619|   France|Female| 42|     2|      0.0|              1|              1|               1|       101348.88|    1|       0.0|    1.0|[619.0,2.0,0.0,1....|\n",
      "|  15647311|     Hill|        608|    Spain|Female| 41|     1| 83807.86|              1|              0|               1|       112542.58|    0|       2.0|    1.0|[608.0,1.0,83807....|\n",
      "|  15619304|     Onio|        502|   France|Female| 42|     8| 159660.8|              3|              1|               0|       113931.57|    1|       0.0|    1.0|[502.0,8.0,159660...|\n",
      "|  15701354|     Boni|        699|   France|Female| 39|     1|      0.0|              2|              0|               0|        93826.63|    0|       0.0|    1.0|[699.0,1.0,0.0,2....|\n",
      "|  15737888| Mitchell|        850|    Spain|Female| 43|     2|125510.82|              1|              1|               1|         79084.1|    0|       2.0|    1.0|[850.0,2.0,125510...|\n",
      "|  15574012|      Chu|        645|    Spain|  Male| 44|     8|113755.78|              2|              1|               0|       149756.71|    1|       2.0|    0.0|[645.0,8.0,113755...|\n",
      "|  15592531| Bartlett|        822|   France|  Male| 50|     7|      0.0|              2|              1|               1|         10062.8|    0|       0.0|    0.0|[822.0,7.0,0.0,2....|\n",
      "|  15656148|   Obinna|        376|  Germany|Female| 29|     4|115046.74|              4|              1|               0|       119346.88|    1|       1.0|    1.0|[376.0,4.0,115046...|\n",
      "|  15792365|       He|        501|   France|  Male| 44|     4|142051.07|              2|              0|               1|         74940.5|    0|       0.0|    0.0|[501.0,4.0,142051...|\n",
      "|  15592389|       H?|        684|   France|  Male| 27|     2|134603.88|              1|              1|               1|        71725.73|    0|       0.0|    0.0|[684.0,2.0,134603...|\n",
      "|  15767821|   Bearce|        528|   France|  Male| 31|     6|102016.72|              2|              0|               0|        80181.12|    0|       0.0|    0.0|[528.0,6.0,102016...|\n",
      "|  15737173|  Andrews|        497|    Spain|  Male| 24|     3|      0.0|              2|              1|               0|        76390.01|    0|       2.0|    0.0|[497.0,3.0,0.0,2....|\n",
      "|  15632264|      Kay|        476|   France|Female| 34|    10|      0.0|              2|              1|               0|        26260.98|    0|       0.0|    1.0|[476.0,10.0,0.0,2...|\n",
      "|  15691483|     Chin|        549|   France|Female| 25|     5|      0.0|              2|              0|               0|       190857.79|    0|       0.0|    1.0|[549.0,5.0,0.0,2....|\n",
      "|  15600882|    Scott|        635|    Spain|Female| 35|     7|      0.0|              2|              1|               1|        65951.65|    0|       2.0|    1.0|[635.0,7.0,0.0,2....|\n",
      "|  15643966|  Goforth|        616|  Germany|  Male| 45|     3|143129.41|              2|              0|               1|        64327.26|    0|       1.0|    0.0|[616.0,3.0,143129...|\n",
      "|  15737452|    Romeo|        653|  Germany|  Male| 58|     1|132602.88|              1|              1|               0|         5097.67|    1|       1.0|    0.0|[653.0,1.0,132602...|\n",
      "|  15788218|Henderson|        549|    Spain|Female| 24|     9|      0.0|              2|              1|               1|        14406.41|    0|       2.0|    1.0|[549.0,9.0,0.0,2....|\n",
      "|  15661507|  Muldrow|        587|    Spain|  Male| 45|     6|      0.0|              1|              0|               0|       158684.81|    0|       2.0|    0.0|[587.0,6.0,0.0,1....|\n",
      "|  15568982|      Hao|        726|   France|Female| 24|     6|      0.0|              2|              1|               1|        54724.03|    0|       0.0|    1.0|[726.0,6.0,0.0,2....|\n",
      "+----------+---------+-----------+---------+------+---+------+---------+---------------+---------------+----------------+----------------+-----+----------+-------+--------------------+\n",
      "only showing top 20 rows\n",
      "\n"
     ]
    }
   ],
   "source": [
    "sdf.show()"
   ]
  },
  {
   "cell_type": "code",
   "execution_count": 22,
   "id": "aa14f28e",
   "metadata": {},
   "outputs": [],
   "source": [
    "data=sdf.select(['Churn','X'])"
   ]
  },
  {
   "cell_type": "code",
   "execution_count": 23,
   "id": "32ae34af",
   "metadata": {},
   "outputs": [
    {
     "name": "stdout",
     "output_type": "stream",
     "text": [
      "+-----+--------------------+\n",
      "|Churn|                   X|\n",
      "+-----+--------------------+\n",
      "|    1|[619.0,2.0,0.0,1....|\n",
      "|    0|[608.0,1.0,83807....|\n",
      "|    1|[502.0,8.0,159660...|\n",
      "|    0|[699.0,1.0,0.0,2....|\n",
      "|    0|[850.0,2.0,125510...|\n",
      "|    1|[645.0,8.0,113755...|\n",
      "|    0|[822.0,7.0,0.0,2....|\n",
      "|    1|[376.0,4.0,115046...|\n",
      "|    0|[501.0,4.0,142051...|\n",
      "|    0|[684.0,2.0,134603...|\n",
      "|    0|[528.0,6.0,102016...|\n",
      "|    0|[497.0,3.0,0.0,2....|\n",
      "|    0|[476.0,10.0,0.0,2...|\n",
      "|    0|[549.0,5.0,0.0,2....|\n",
      "|    0|[635.0,7.0,0.0,2....|\n",
      "|    0|[616.0,3.0,143129...|\n",
      "|    1|[653.0,1.0,132602...|\n",
      "|    0|[549.0,9.0,0.0,2....|\n",
      "|    0|[587.0,6.0,0.0,1....|\n",
      "|    0|[726.0,6.0,0.0,2....|\n",
      "+-----+--------------------+\n",
      "only showing top 20 rows\n",
      "\n"
     ]
    }
   ],
   "source": [
    "data.show()"
   ]
  },
  {
   "cell_type": "code",
   "execution_count": 24,
   "id": "a848c917",
   "metadata": {},
   "outputs": [],
   "source": [
    "train, test= data.randomSplit([0.7,0.3],seed=2529)"
   ]
  },
  {
   "cell_type": "code",
   "execution_count": 25,
   "id": "8a966598",
   "metadata": {},
   "outputs": [
    {
     "data": {
      "text/plain": [
       "['Churn', 'X']"
      ]
     },
     "execution_count": 25,
     "metadata": {},
     "output_type": "execute_result"
    }
   ],
   "source": [
    "train.columns"
   ]
  },
  {
   "cell_type": "code",
   "execution_count": 26,
   "id": "4187ea2e",
   "metadata": {},
   "outputs": [],
   "source": [
    "from pyspark.ml.feature import StandardScaler"
   ]
  },
  {
   "cell_type": "code",
   "execution_count": 27,
   "id": "8acbe8cc",
   "metadata": {},
   "outputs": [],
   "source": [
    "ss=StandardScaler(inputCol='X',outputCol=\"sX\",withStd=True,withMean=True)"
   ]
  },
  {
   "cell_type": "code",
   "execution_count": 28,
   "id": "c64c8e14",
   "metadata": {},
   "outputs": [],
   "source": [
    "strain=ss.fit(train).transform(train)"
   ]
  },
  {
   "cell_type": "code",
   "execution_count": 29,
   "id": "ef7bbdc3",
   "metadata": {},
   "outputs": [],
   "source": [
    "stest=ss.fit(train).transform(test)"
   ]
  },
  {
   "cell_type": "code",
   "execution_count": 30,
   "id": "b38be3e0",
   "metadata": {},
   "outputs": [],
   "source": [
    "from pyspark.ml.classification import LogisticRegression"
   ]
  },
  {
   "cell_type": "code",
   "execution_count": 31,
   "id": "19767960",
   "metadata": {},
   "outputs": [],
   "source": [
    "logit=LogisticRegression(featuresCol='sX',labelCol='Churn')"
   ]
  },
  {
   "cell_type": "code",
   "execution_count": 32,
   "id": "f45c14ab",
   "metadata": {},
   "outputs": [],
   "source": [
    "results=logit.fit(strain).transform(stest)"
   ]
  },
  {
   "cell_type": "code",
   "execution_count": 34,
   "id": "28154744",
   "metadata": {},
   "outputs": [
    {
     "data": {
      "text/plain": [
       "LogisticRegressionModel: uid=LogisticRegression_42228460d712, numClasses=2, numFeatures=9"
      ]
     },
     "execution_count": 34,
     "metadata": {},
     "output_type": "execute_result"
    }
   ],
   "source": [
    "logit.fit(strain)"
   ]
  },
  {
   "cell_type": "code",
   "execution_count": 36,
   "id": "3bbac715",
   "metadata": {},
   "outputs": [],
   "source": [
    "results=logit.fit(strain).transform(stest)"
   ]
  },
  {
   "cell_type": "code",
   "execution_count": 37,
   "id": "ab5869e0",
   "metadata": {},
   "outputs": [
    {
     "data": {
      "text/plain": [
       "DataFrame[Churn: int, X: vector, sX: vector, rawPrediction: vector, probability: vector, prediction: double]"
      ]
     },
     "execution_count": 37,
     "metadata": {},
     "output_type": "execute_result"
    }
   ],
   "source": [
    "results"
   ]
  },
  {
   "cell_type": "code",
   "execution_count": 38,
   "id": "cfa1e396",
   "metadata": {},
   "outputs": [],
   "source": [
    "from pyspark.ml.evaluation import MulticlassClassificationEvaluator"
   ]
  },
  {
   "cell_type": "code",
   "execution_count": 39,
   "id": "f34117b2",
   "metadata": {},
   "outputs": [],
   "source": [
    "mce= MulticlassClassificationEvaluator(predictionCol='prediction',labelCol='Churn',metricName='accuracy')"
   ]
  },
  {
   "cell_type": "code",
   "execution_count": 40,
   "id": "3341ba32",
   "metadata": {},
   "outputs": [
    {
     "data": {
      "text/plain": [
       "0.8056300268096515"
      ]
     },
     "execution_count": 40,
     "metadata": {},
     "output_type": "execute_result"
    }
   ],
   "source": [
    "mce.evaluate(results)"
   ]
  },
  {
   "cell_type": "code",
   "execution_count": 41,
   "id": "49f854c2",
   "metadata": {},
   "outputs": [],
   "source": [
    "from pyspark.ml.classification import RandomForestClassifier"
   ]
  },
  {
   "cell_type": "code",
   "execution_count": 42,
   "id": "c7745381",
   "metadata": {},
   "outputs": [],
   "source": [
    "rfc= RandomForestClassifier(featuresCol='X',labelCol='Churn')"
   ]
  },
  {
   "cell_type": "code",
   "execution_count": 43,
   "id": "c07f5440",
   "metadata": {},
   "outputs": [],
   "source": [
    "results=rfc.fit(train).transform(test)"
   ]
  },
  {
   "cell_type": "code",
   "execution_count": 44,
   "id": "d5255397",
   "metadata": {},
   "outputs": [],
   "source": [
    "from pyspark.ml.evaluation import MulticlassClassificationEvaluator"
   ]
  },
  {
   "cell_type": "code",
   "execution_count": 45,
   "id": "2eef01ba",
   "metadata": {},
   "outputs": [],
   "source": [
    "mce= MulticlassClassificationEvaluator(predictionCol='prediction',labelCol='Churn',metricName='accuracy')"
   ]
  },
  {
   "cell_type": "code",
   "execution_count": 46,
   "id": "70792ca3",
   "metadata": {},
   "outputs": [
    {
     "data": {
      "text/plain": [
       "0.8260723860589813"
      ]
     },
     "execution_count": 46,
     "metadata": {},
     "output_type": "execute_result"
    }
   ],
   "source": [
    "mce.evaluate(results)"
   ]
  },
  {
   "cell_type": "code",
   "execution_count": 55,
   "id": "0b6241e1",
   "metadata": {},
   "outputs": [],
   "source": [
    "from pyspark.ml.classification import LogisticRegression"
   ]
  },
  {
   "cell_type": "code",
   "execution_count": 59,
   "id": "7ff29469",
   "metadata": {},
   "outputs": [],
   "source": [
    "lr=LogisticRegression(featuresCol='X',labelCol='Churn')"
   ]
  },
  {
   "cell_type": "code",
   "execution_count": 60,
   "id": "c92ad0cd",
   "metadata": {},
   "outputs": [],
   "source": [
    "results=lr.fit(train).transform(test)"
   ]
  },
  {
   "cell_type": "code",
   "execution_count": 61,
   "id": "83663ee5",
   "metadata": {},
   "outputs": [
    {
     "name": "stdout",
     "output_type": "stream",
     "text": [
      "+-----+--------------------+--------------------+--------------------+----------+\n",
      "|Churn|                   X|       rawPrediction|         probability|prediction|\n",
      "+-----+--------------------+--------------------+--------------------+----------+\n",
      "|    0|(9,[0,1,3,6],[413...|[1.82605480013236...|[0.86129107014923...|       0.0|\n",
      "|    0|(9,[0,1,3,6],[474...|[1.70242670490369...|[0.84585141083148...|       0.0|\n",
      "|    0|(9,[0,1,3,6],[497...|[1.72757032530748...|[0.84910137431828...|       0.0|\n",
      "|    0|(9,[0,1,3,6],[501...|[1.78514231311908...|[0.85633067669134...|       0.0|\n",
      "|    0|(9,[0,1,3,6],[532...|[1.81798220447741...|[0.86032383138104...|       0.0|\n",
      "|    0|(9,[0,1,3,6],[537...|[1.67210573050045...|[0.84185636780065...|       0.0|\n",
      "|    0|(9,[0,1,3,6],[544...|[1.71501257302707...|[0.84748530825935...|       0.0|\n",
      "|    0|(9,[0,1,3,6],[552...|[1.72560146454876...|[0.84884893424467...|       0.0|\n",
      "|    0|(9,[0,1,3,6],[554...|[1.68358715301369...|[0.84337894523666...|       0.0|\n",
      "|    0|(9,[0,1,3,6],[559...|[1.64414282548166...|[0.83809786439725...|       0.0|\n",
      "|    0|(9,[0,1,3,6],[561...|[1.67410024806491...|[0.84212172532948...|       0.0|\n",
      "|    0|(9,[0,1,3,6],[562...|[1.69376761867715...|[0.84471899604174...|       0.0|\n",
      "|    0|(9,[0,1,3,6],[582...|[1.67296975222532...|[0.84197136468839...|       0.0|\n",
      "|    0|(9,[0,1,3,6],[586...|[1.75078841002362...|[0.85205221592287...|       0.0|\n",
      "|    0|(9,[0,1,3,6],[597...|[1.69169240692449...|[0.84444659821174...|       0.0|\n",
      "|    0|(9,[0,1,3,6],[615...|[1.84039256180434...|[0.86299512840192...|       0.0|\n",
      "|    0|(9,[0,1,3,6],[622...|[1.72861855310934...|[0.84923563274911...|       0.0|\n",
      "|    0|(9,[0,1,3,6],[623...|[1.63237560535349...|[0.83649481305298...|       0.0|\n",
      "|    0|(9,[0,1,3,6],[628...|[1.71377997557183...|[0.84732592190999...|       0.0|\n",
      "|    0|(9,[0,1,3,6],[631...|[1.67030302876843...|[0.84161621857428...|       0.0|\n",
      "+-----+--------------------+--------------------+--------------------+----------+\n",
      "only showing top 20 rows\n",
      "\n"
     ]
    }
   ],
   "source": [
    "lr.fit(train).transform(test).show()"
   ]
  },
  {
   "cell_type": "code",
   "execution_count": 63,
   "id": "4695d395",
   "metadata": {},
   "outputs": [],
   "source": [
    "from pyspark.ml.evaluation import MulticlassClassificationEvaluator"
   ]
  },
  {
   "cell_type": "code",
   "execution_count": 66,
   "id": "152aeda3",
   "metadata": {},
   "outputs": [],
   "source": [
    "mce=MulticlassClassificationEvaluator(labelCol='Churn',predictionCol='prediction',metricName='accuracy')"
   ]
  },
  {
   "cell_type": "markdown",
   "id": "d788dbcb",
   "metadata": {},
   "source": [
    "mce.evaluate(results)"
   ]
  },
  {
   "cell_type": "code",
   "execution_count": 67,
   "id": "f2cb8d90",
   "metadata": {},
   "outputs": [
    {
     "data": {
      "text/plain": [
       "0.8056300268096515"
      ]
     },
     "execution_count": 67,
     "metadata": {},
     "output_type": "execute_result"
    }
   ],
   "source": [
    "mce.evaluate(results)"
   ]
  },
  {
   "cell_type": "code",
   "execution_count": null,
   "id": "cdc01939",
   "metadata": {},
   "outputs": [],
   "source": []
  }
 ],
 "metadata": {
  "kernelspec": {
   "display_name": "Python 3 (ipykernel)",
   "language": "python",
   "name": "python3"
  },
  "language_info": {
   "codemirror_mode": {
    "name": "ipython",
    "version": 3
   },
   "file_extension": ".py",
   "mimetype": "text/x-python",
   "name": "python",
   "nbconvert_exporter": "python",
   "pygments_lexer": "ipython3",
   "version": "3.11.5"
  }
 },
 "nbformat": 4,
 "nbformat_minor": 5
}
